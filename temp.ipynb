{
 "cells": [
  {
   "cell_type": "code",
   "execution_count": 11,
   "metadata": {},
   "outputs": [
    {
     "name": "stdout",
     "output_type": "stream",
     "text": [
      "처리 완료\n"
     ]
    }
   ],
   "source": [
    "import pandas as pd\n",
    "import os\n",
    " \n",
    "input_dirs = ['/home/rtlink/robros/dataset/collision/len50/input_data', '/home/rtlink/robros/dataset/collision/len50/target_data']\n",
    " \n",
    "\n",
    "for input_dir in input_dirs:\n",
    "    new_dir_path = os.path.join(input_dir, '../cleaned', os.path.basename(os.path.normpath(input_dir)))\n",
    "    os.makedirs(new_dir_path, exist_ok=True)  \n",
    "    for filename in os.listdir(input_dir):\n",
    "        if filename.endswith('.csv'):\n",
    "            file_path = os.path.join(input_dir, filename)\n",
    "            new_file_path = os.path.join(new_dir_path, filename)\n",
    "            \n",
    "            df = pd.read_csv(file_path, header=None, on_bad_lines='skip')\n",
    "            \n",
    "            df_filled = df.fillna(0)\n",
    "            \n",
    "            df_filtered = df_filled[(df_filled.iloc[:, 0] != 0) | (df_filled.iloc[:, 1] != 0)]\n",
    "            \n",
    "            df_filtered.to_csv(new_file_path, index=False, header=False)\n",
    "\n",
    " "
   ]
  },
  {
   "cell_type": "code",
   "execution_count": 15,
   "metadata": {},
   "outputs": [
    {
     "name": "stdout",
     "output_type": "stream",
     "text": [
      "파일 생성 완료\n"
     ]
    }
   ],
   "source": [
    "import pandas as pd\n",
    "import numpy as np\n",
    "import os\n",
    " \n",
    "input_dir = '/home/rtlink/robros/dataset/collision/len50/cleaned/input_data'  # 예시 경로, 실제 경로로 변경 필요\n",
    "output_dirs = {'target': 'target/', 'position': 'position/'}\n",
    "\n",
    "base_input_dir = '/home/rtlink/robros/dataset/collision/len50/cleaned/input_data' \n",
    "base_output_dir = '/home/rtlink/robros/dataset/collision/len50/cleaned/discriminator/'\n",
    "\n",
    "output_dirs = {\n",
    "    'target': os.path.join(base_output_dir, 'target'),\n",
    "    'position': os.path.join(base_output_dir, 'position')\n",
    "}\n",
    " \n",
    "# 출력 디렉토리 생성\n",
    "for dir_path in output_dirs.values():\n",
    "    os.makedirs(dir_path, exist_ok=True)\n",
    " \n",
    "# 해당 디렉토리 내의 모든 CSV 파일에 대해 반복 처리\n",
    "for filename in os.listdir(input_dir):\n",
    "    if filename.endswith('.csv'):\n",
    "        file_path = os.path.join(input_dir, filename)\n",
    "        # CSV 파일 읽기, 컬럼명이 없음을 가정\n",
    "        df = pd.read_csv(file_path, header=None)\n",
    "        # target 데이터 생성 및 저장\n",
    "        target_path = os.path.join(output_dirs['target'], filename)\n",
    "        df['One_Hot_Encoded'] = df[2].apply(lambda x: np.eye(7, dtype=int)[int(x)-1].tolist())\n",
    "        target_df = df[[1, 'One_Hot_Encoded']]\n",
    "        target_df.to_csv(target_path, index=False, header=False)\n",
    "        # position 데이터 생성 및 저장\n",
    "        position_path = os.path.join(output_dirs['position'], filename)\n",
    "        position_df = df.iloc[:, 3:]\n",
    "        position_df.to_csv(position_path, index=False, header=False)\n",
    " \n",
    "print(\"파일 생성 완료\")"
   ]
  }
 ],
 "metadata": {
  "kernelspec": {
   "display_name": "robros",
   "language": "python",
   "name": "python3"
  },
  "language_info": {
   "codemirror_mode": {
    "name": "ipython",
    "version": 3
   },
   "file_extension": ".py",
   "mimetype": "text/x-python",
   "name": "python",
   "nbconvert_exporter": "python",
   "pygments_lexer": "ipython3",
   "version": "3.9.18"
  }
 },
 "nbformat": 4,
 "nbformat_minor": 2
}
