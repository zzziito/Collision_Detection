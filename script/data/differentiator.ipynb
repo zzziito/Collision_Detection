{
 "cells": [
  {
   "cell_type": "code",
   "execution_count": 2,
   "metadata": {},
   "outputs": [],
   "source": [
    "import os\n",
    "import pandas as pd\n",
    "import numpy as np\n",
    " \n",
    "base_dir = \"/home/rtlink/robros/dataset/robros_dataset/\" \n",
    "\n",
    "input_dir = os.path.join(base_dir, \"input_data/joint_position\")\n",
    "velocity_dir = os.path.join(base_dir, \"input_data/joint_velocity\")\n",
    "acceleration_dir = os.path.join(base_dir, \"input_data/joint_acceleration\")\n",
    "\n",
    "\n",
    "os.makedirs(velocity_dir, exist_ok=True)\n",
    "os.makedirs(acceleration_dir, exist_ok=True)\n",
    " \n",
    "\n",
    "for filename in os.listdir(input_dir):\n",
    "\n",
    "    if filename.endswith(\".csv\"):\n",
    "\n",
    "        file_path = os.path.join(input_dir, filename)\n",
    "\n",
    "        df = pd.read_csv(file_path)\n",
    " \n",
    "        # 가로축(시간)을 기준으로 미분하여 속도(velocity) 계산\n",
    "\n",
    "        velocity = df.diff(axis=1).fillna(0)\n",
    "\n",
    "        velocity_file_path = os.path.join(velocity_dir, filename)\n",
    "\n",
    "        velocity.to_csv(velocity_file_path, index=False)\n",
    " \n",
    "        # 속도를 다시 미분하여 가속도(acceleration) 계산\n",
    "\n",
    "        acceleration = velocity.diff(axis=1).fillna(0)\n",
    "        acceleration_file_path = os.path.join(acceleration_dir, filename)\n",
    "        acceleration.to_csv(acceleration_file_path, index=False)\n"
   ]
  }
 ],
 "metadata": {
  "kernelspec": {
   "display_name": "robros",
   "language": "python",
   "name": "python3"
  },
  "language_info": {
   "codemirror_mode": {
    "name": "ipython",
    "version": 3
   },
   "file_extension": ".py",
   "mimetype": "text/x-python",
   "name": "python",
   "nbconvert_exporter": "python",
   "pygments_lexer": "ipython3",
   "version": "3.9.18"
  }
 },
 "nbformat": 4,
 "nbformat_minor": 2
}
