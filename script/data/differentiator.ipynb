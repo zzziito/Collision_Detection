{
 "cells": [
  {
   "cell_type": "code",
   "execution_count": 7,
   "metadata": {},
   "outputs": [
    {
     "ename": "TypeError",
     "evalue": "read_csv() got an unexpected keyword argument 'error_bad_lines'",
     "output_type": "error",
     "traceback": [
      "\u001b[0;31m---------------------------------------------------------------------------\u001b[0m",
      "\u001b[0;31mTypeError\u001b[0m                                 Traceback (most recent call last)",
      "Cell \u001b[0;32mIn[7], line 22\u001b[0m\n\u001b[1;32m     18\u001b[0m \u001b[38;5;28;01mif\u001b[39;00m filename\u001b[38;5;241m.\u001b[39mendswith(\u001b[38;5;124m\"\u001b[39m\u001b[38;5;124m.csv\u001b[39m\u001b[38;5;124m\"\u001b[39m):\n\u001b[1;32m     20\u001b[0m     file_path \u001b[38;5;241m=\u001b[39m os\u001b[38;5;241m.\u001b[39mpath\u001b[38;5;241m.\u001b[39mjoin(input_dir, filename)\n\u001b[0;32m---> 22\u001b[0m     df \u001b[38;5;241m=\u001b[39m \u001b[43mpd\u001b[49m\u001b[38;5;241;43m.\u001b[39;49m\u001b[43mread_csv\u001b[49m\u001b[43m(\u001b[49m\u001b[43mfile_path\u001b[49m\u001b[43m,\u001b[49m\u001b[43m \u001b[49m\u001b[43merror_bad_lines\u001b[49m\u001b[43m \u001b[49m\u001b[38;5;241;43m=\u001b[39;49m\u001b[43m \u001b[49m\u001b[38;5;28;43;01mFalse\u001b[39;49;00m\u001b[43m)\u001b[49m\n\u001b[1;32m     24\u001b[0m     \u001b[38;5;66;03m# 가로축(시간)을 기준으로 미분하여 속도(velocity) 계산\u001b[39;00m\n\u001b[1;32m     26\u001b[0m     velocity \u001b[38;5;241m=\u001b[39m df\u001b[38;5;241m.\u001b[39mdiff(axis\u001b[38;5;241m=\u001b[39m\u001b[38;5;241m1\u001b[39m)\u001b[38;5;241m.\u001b[39mfillna(\u001b[38;5;241m0\u001b[39m)\n",
      "\u001b[0;31mTypeError\u001b[0m: read_csv() got an unexpected keyword argument 'error_bad_lines'"
     ]
    }
   ],
   "source": [
    "import os\n",
    "import pandas as pd\n",
    "import numpy as np\n",
    " \n",
    "base_dir = \"/home/rtlink/robros/dataset/robros_dataset_new/\" \n",
    "\n",
    "input_dir = os.path.join(base_dir, \"input_data/joint_position\")\n",
    "velocity_dir = os.path.join(base_dir, \"input_data/joint_velocity\")\n",
    "acceleration_dir = os.path.join(base_dir, \"input_data/joint_acceleration\")\n",
    "\n",
    "\n",
    "os.makedirs(velocity_dir, exist_ok=True)\n",
    "os.makedirs(acceleration_dir, exist_ok=True)\n",
    " \n",
    "\n",
    "for filename in os.listdir(input_dir):\n",
    "\n",
    "    if filename.endswith(\".csv\"):\n",
    "\n",
    "        file_path = os.path.join(input_dir, filename)\n",
    "\n",
    "        df = pd.read_csv(file_path, on_bad_lines='skip')\n",
    " \n",
    "        # 가로축(시간)을 기준으로 미분하여 속도(velocity) 계산\n",
    "\n",
    "        velocity = df.diff(axis=1).fillna(0)\n",
    "\n",
    "        velocity_file_path = os.path.join(velocity_dir, filename)\n",
    "\n",
    "        velocity.to_csv(velocity_file_path, index=False)\n",
    " \n",
    "        # 속도를 다시 미분하여 가속도(acceleration) 계산\n",
    "\n",
    "        acceleration = velocity.diff(axis=1).fillna(0)\n",
    "        acceleration_file_path = os.path.join(acceleration_dir, filename)\n",
    "        acceleration.to_csv(acceleration_file_path, index=False)\n"
   ]
  },
  {
   "cell_type": "code",
   "execution_count": 3,
   "metadata": {},
   "outputs": [],
   "source": [
    "import os\n",
    "import pandas as pd\n",
    "import numpy as np\n",
    "\n",
    "base_dir = \"/home/rtlink/robros/dataset/collision/len50/cleaned/\"\n",
    "\n",
    "input_dir = os.path.join(base_dir, \"input_data/joint_position\")\n",
    "padded_input_dir = os.path.join(base_dir, \"input_data/padded_joint_position\")\n",
    "velocity_dir = os.path.join(base_dir, \"input_data/joint_velocity\")\n",
    "acceleration_dir = os.path.join(base_dir, \"input_data/joint_acceleration\")\n",
    "\n",
    "os.makedirs(padded_input_dir, exist_ok=True)  \n",
    "os.makedirs(velocity_dir, exist_ok=True)\n",
    "os.makedirs(acceleration_dir, exist_ok=True)\n",
    "\n",
    "def read_csv_with_padding(file_path):\n",
    "    with open(file_path, 'r') as file:\n",
    "        lines = file.readlines()\n",
    "    \n",
    "    max_cols = max(len(line.split(',')) for line in lines)\n",
    "    \n",
    "    padded_data = []\n",
    "    for line in lines:\n",
    "        row = line.strip().split(',')\n",
    "        row += ['0'] * (max_cols - len(row))\n",
    "        padded_data.append(row)\n",
    "    \n",
    "    return pd.DataFrame(padded_data, dtype=float)\n",
    "\n",
    "for filename in os.listdir(input_dir):\n",
    "    if filename.endswith(\".csv\"):\n",
    "        file_path = os.path.join(input_dir, filename)\n",
    "        \n",
    "        # 파일을 읽고 padding 적용\n",
    "        df = read_csv_with_padding(file_path)\n",
    "        \n",
    "        # 새로운 위치에 padding된 데이터 저장\n",
    "        padded_file_path = os.path.join(padded_input_dir, filename)\n",
    "        df.to_csv(padded_file_path, index=False)\n",
    "        \n",
    "        # 속도 계산\n",
    "        velocity = df.diff(axis=1).fillna(0)\n",
    "        velocity_file_path = os.path.join(velocity_dir, filename)\n",
    "        velocity.to_csv(velocity_file_path, index=False)\n",
    "        \n",
    "        # 가속도 계산\n",
    "        acceleration = velocity.diff(axis=1).fillna(0)\n",
    "        acceleration_file_path = os.path.join(acceleration_dir, filename)\n",
    "        acceleration.to_csv(acceleration_file_path, index=False)\n"
   ]
  }
 ],
 "metadata": {
  "kernelspec": {
   "display_name": "robros",
   "language": "python",
   "name": "python3"
  },
  "language_info": {
   "codemirror_mode": {
    "name": "ipython",
    "version": 3
   },
   "file_extension": ".py",
   "mimetype": "text/x-python",
   "name": "python",
   "nbconvert_exporter": "python",
   "pygments_lexer": "ipython3",
   "version": "3.9.18"
  }
 },
 "nbformat": 4,
 "nbformat_minor": 2
}
