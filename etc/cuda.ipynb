{
 "cells": [
  {
   "cell_type": "code",
   "execution_count": 1,
   "metadata": {},
   "outputs": [
    {
     "name": "stderr",
     "output_type": "stream",
     "text": [
      "/home/rtlink/anaconda3/envs/robros/lib/python3.9/site-packages/tqdm/auto.py:21: TqdmWarning: IProgress not found. Please update jupyter and ipywidgets. See https://ipywidgets.readthedocs.io/en/stable/user_install.html\n",
      "  from .autonotebook import tqdm as notebook_tqdm\n"
     ]
    },
    {
     "name": "stdout",
     "output_type": "stream",
     "text": [
      "CUDA is available. Details:\n",
      "Number of CUDA devices available: 1\n",
      "\n",
      "Device 0: NVIDIA GeForce RTX 3070 Laptop GPU\n",
      "  Current memory usage: 0.00 GB\n",
      "  Total memory: 8.37 GB\n"
     ]
    }
   ],
   "source": [
    "import torch\n",
    " \n",
    "def print_cuda_info():\n",
    "    # CUDA 사용 가능 여부 확인\n",
    "    if torch.cuda.is_available():\n",
    "        print(\"CUDA is available. Details:\")\n",
    "        # 사용 가능한 CUDA 디바이스의 수\n",
    "        num_devices = torch.cuda.device_count()\n",
    "        print(f\"Number of CUDA devices available: {num_devices}\")\n",
    "        for i in range(num_devices):\n",
    "            # 각 디바이스의 이름, 현재 메모리 사용량, 총 메모리 용량 출력\n",
    "            print(f\"\\nDevice {i}: {torch.cuda.get_device_name(i)}\")\n",
    "            print(f\"  Current memory usage: {torch.cuda.memory_allocated(i) / 1e9:.2f} GB\")\n",
    "            print(f\"  Total memory: {torch.cuda.get_device_properties(i).total_memory / 1e9:.2f} GB\")\n",
    "    else:\n",
    "        print(\"CUDA is not available.\")\n",
    " \n",
    "if __name__ == \"__main__\":\n",
    "    print_cuda_info()"
   ]
  },
  {
   "cell_type": "code",
   "execution_count": null,
   "metadata": {},
   "outputs": [],
   "source": []
  }
 ],
 "metadata": {
  "kernelspec": {
   "display_name": "Python 3",
   "language": "python",
   "name": "python3"
  },
  "language_info": {
   "codemirror_mode": {
    "name": "ipython",
    "version": 3
   },
   "file_extension": ".py",
   "mimetype": "text/x-python",
   "name": "python",
   "nbconvert_exporter": "python",
   "pygments_lexer": "ipython3",
   "version": "3.9.18"
  }
 },
 "nbformat": 4,
 "nbformat_minor": 2
}
