{
 "cells": [
  {
   "cell_type": "code",
   "execution_count": null,
   "metadata": {},
   "outputs": [],
   "source": [
    "import os\n",
    "import csv\n",
    "import numpy as np\n",
    "\n",
    "def calculate_ratio_and_save(input_dir):\n",
    "    # os.makedirs(output_dir, exist_ok=True)\n",
    "    file_list = os.listdir(input_dir)\n",
    "    for filename in file_list:\n",
    "        if filename.endswith(\".csv\"):\n",
    "            file_path = os.path.join(input_dir, filename)\n",
    "            # output_file_path = os.path.join(output_dir, \"ratio_\" + filename) # 결과 파일명에 'ratio_' 접두사 추가\n",
    "            with open(file_path, mode='r') as file:\n",
    "                reader = csv.reader(file)\n",
    "                for row in reader:\n",
    "                    # 문자열 데이터를 float 타입의 numpy 배열로 변환\n",
    "                    data = np.array(row, dtype=int)\n",
    "                    # 0과 1의 개수 계산\n",
    "                    zeros_count = np.sum(data == 0)\n",
    "                    ones_count = np.sum(data == 1)\n",
    "                    # 전체 개수\n",
    "                    total_count = zeros_count + ones_count\n",
    "                    # 비율 계산\n",
    "                    if total_count > 0:\n",
    "                        zeros_ratio = zeros_count / total_count\n",
    "                        ones_ratio = ones_count / total_count\n",
    "                    else:\n",
    "                        zeros_ratio, ones_ratio = 0, 0\n",
    "                    print(zeros_ratio, ones_ratio)\n",
    "                    # # 비율 저장\n",
    "                    # with open(output_file_path, mode='w', newline='') as output_file:\n",
    "                    #     writer = csv.writer(output_file)\n",
    "                    #     writer.writerow([\"zeros_ratio\", zeros_ratio, \"ones_ratio\", ones_ratio])\n",
    "\n",
    "input_dir_example = \"/home/rtlink/robros/dataset/0215_norm/0215_collision/collision\"\n",
    "\n",
    "calculate_ratio_and_save(input_dir_example)\n"
   ]
  }
 ],
 "metadata": {
  "kernelspec": {
   "display_name": "robros",
   "language": "python",
   "name": "python3"
  },
  "language_info": {
   "name": "python",
   "version": "3.9.18"
  }
 },
 "nbformat": 4,
 "nbformat_minor": 2
}
